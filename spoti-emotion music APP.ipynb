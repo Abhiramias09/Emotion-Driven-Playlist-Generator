{
 "cells": [
  {
   "cell_type": "code",
   "execution_count": 1,
   "metadata": {},
   "outputs": [],
   "source": [
    "import spotipy"
   ]
  },
  {
   "cell_type": "code",
   "execution_count": 2,
   "metadata": {},
   "outputs": [],
   "source": [
    "from spotipy.oauth2 import SpotifyClientCredentials\n",
    "from textblob import TextBlob"
   ]
  },
  {
   "cell_type": "code",
   "execution_count": 8,
   "metadata": {},
   "outputs": [],
   "source": [
    "# Spotify API Authentication\n",
    "sp = spotipy.Spotify(auth_manager=SpotifyClientCredentials(client_id=\"ccad75bf5b384c4d9fadd590cdb31891\", client_secret=\"864611bb0db845009541be78b2cf670d\"))\n",
    "\n",
    "# Define mood-to-emotion mapping\n",
    "mood_emotions = {\n",
    "    'happy': ['pop', 'dance', 'upbeat'],\n",
    "    'sad': ['blues', 'sad', 'acoustic'],\n",
    "    'angry': ['rock', 'metal', 'intense'],\n",
    "    'relaxed': ['ambient', 'chill', 'instrumental'],\n",
    "    'excited': ['electronic', 'hip-hop', 'energetic']\n",
    "}\n"
   ]
  },
  {
   "cell_type": "code",
   "execution_count": 10,
   "metadata": {},
   "outputs": [],
   "source": [
    "def analyze_mood(text):\n",
    "    # Perform sentiment analysis on the user's mood text input\n",
    "    blob = TextBlob(text)\n",
    "    sentiment = blob.sentiment.polarity\n",
    "    \n",
    "    if sentiment > 0.2:\n",
    "        return \"happy\"\n",
    "    elif sentiment < -0.2:\n",
    "        return \"sad\"\n",
    "    else:\n",
    "        return \"relaxed\"\n"
   ]
  },
  {
   "cell_type": "code",
   "execution_count": 11,
   "metadata": {},
   "outputs": [],
   "source": [
    "def get_playlist_by_mood(mood):\n",
    "    # Search for tracks based on mood-related genres or keywords\n",
    "    genres = mood_emotions.get(mood, [])\n",
    "    tracks = []\n",
    "\n",
    "    for genre in genres:\n",
    "        results = sp.search(q=genre, limit=10, type='track')\n",
    "        for track in results['tracks']['items']:\n",
    "            tracks.append(track['name'] + \" by \" + track['artists'][0]['name'])\n",
    "\n",
    "    return tracks"
   ]
  },
  {
   "cell_type": "code",
   "execution_count": 12,
   "metadata": {},
   "outputs": [],
   "source": [
    "def generate_playlist():\n",
    "    # Get user input for mood\n",
    "    mood_input = input(\"How are you feeling today? (e.g., happy, sad, angry): \").lower()\n",
    "\n",
    "    # Analyze mood and generate playlist\n",
    "    mood = analyze_mood(mood_input)\n",
    "    print(f\"Generating playlist for mood: {mood}...\\n\")\n",
    "    playlist = get_playlist_by_mood(mood)\n",
    "\n",
    "    # Display the playlist\n",
    "    if playlist:\n",
    "        print(\"Your Playlist:\")\n",
    "        for song in playlist:\n",
    "            print(song)\n",
    "    else:\n",
    "        print(\"No songs found for this mood.\")"
   ]
  },
  {
   "cell_type": "code",
   "execution_count": 13,
   "metadata": {},
   "outputs": [
    {
     "name": "stdout",
     "output_type": "stream",
     "text": [
      "Generating playlist for mood: sad...\n",
      "\n",
      "Your Playlist:\n",
      "blue by yung kai\n",
      "Alien Blues by Vundabar\n",
      "Blues Run the Game by Jackson C. Frank\n",
      "Blueslides by ScHoolboy Q\n",
      "Blue Eyes by Yo Yo Honey Singh\n",
      "La La La La (Remix) by Bluesss\n",
      "Railin Oligal - From \"Blue Star\" by Govind Vasantha\n",
      "Saigal Blues by Ram Sampath\n",
      "Still Got The Blues by Gary Moore\n",
      "Osoyoos Blues by Bhalwaan\n",
      "Sadi Gali by Lehmber Hussainpuri\n",
      "Sadqay by Aashir Wajahat\n",
      "Ehsaas by Sheera Jasvir\n",
      "Sadiya by Pawan Singh\n",
      "Ek Raat by Vilen\n",
      "Sadiya Bulukiya by Pawan Singh\n",
      "Mohabat by Sucha Yaar\n",
      "SAD! by XXXTENTACION\n",
      "SAD GIRLZ LUV MONEY Remix (feat. Kali Uchis and Moliy) by Amaarae\n",
      "Summertime Sadness by Lana Del Rey\n",
      "Acoustic by Billy Raffoul\n",
      "Love Is Gone - Acoustic by SLANDER\n",
      "Alag Aasmaan - Acoustic by Anuv Jain\n",
      "Co2 - Acoustic by Prateek Kuhad\n",
      "Who (Acoustic Remix) by Jimin\n",
      "Baarishein (Acoustic) by Anuv Jain\n",
      "Who (Acoustic Remix) by Jimin\n",
      "Khuda Bhi Jab Acoustic (From \"T-Series Acoustics\") by Tony Kakkar\n",
      "Kasoor - Acoustic by Prateek Kuhad\n",
      "Bekhayali Acoustic - Dhvani Bhanushali Version (From \"T-Series Acoustics\") by Dhvani Bhanushali\n"
     ]
    }
   ],
   "source": [
    "# Run the playlist generator\n",
    "if __name__ == \"__main__\":\n",
    "    generate_playlist()"
   ]
  }
 ],
 "metadata": {
  "kernelspec": {
   "display_name": "Python 3",
   "language": "python",
   "name": "python3"
  },
  "language_info": {
   "codemirror_mode": {
    "name": "ipython",
    "version": 3
   },
   "file_extension": ".py",
   "mimetype": "text/x-python",
   "name": "python",
   "nbconvert_exporter": "python",
   "pygments_lexer": "ipython3",
   "version": "3.8.10"
  }
 },
 "nbformat": 4,
 "nbformat_minor": 2
}
